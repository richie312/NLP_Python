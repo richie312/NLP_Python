{
 "cells": [
  {
   "cell_type": "markdown",
   "metadata": {},
   "source": [
    "## Unicode\n",
    "### Text processing with unicode\n",
    "Our programs will often need to deal with different languages, and different character\n",
    "sets. The concept of “plain text” is a fiction. If you live in the English-speaking world\n",
    "you probably use ASCII, possibly without realizing it. If you live in Europe you might\n",
    "use one of the extended Latin character sets, containing such characters as “ø” for\n",
    "Danish and Norwegian, “ő” for Hungarian, “ñ” for Spanish and Breton, and “ň” for\n",
    "Czech and Slovak. In this section, we will give an overview of how to use Unicode for\n",
    "processing texts that use non-ASCII character sets.\n",
    "\n",
    "#### What is unicode\n",
    "\n",
    "Unicode supports over million character. Each character is assigned a number (also known as code point). In python those number are written in the format of \\uxxxx (four digit hexadecimal point) form.This unicode when saved in file they must be encoded as stream of bytes. ASCII and latin-2 forms of encoding uses single byte per code point.Therefore it can only use small subset of unicode. where as UTF-8 uses multiple bytes for encoding for each code point and can represents the full layers of unicode characters.\n",
    "\n",
    "#### Extracting Encoded Text from the files\n"
   ]
  },
  {
   "cell_type": "code",
   "execution_count": null,
   "metadata": {},
   "outputs": [],
   "source": []
  },
  {
   "cell_type": "code",
   "execution_count": null,
   "metadata": {},
   "outputs": [],
   "source": []
  },
  {
   "cell_type": "code",
   "execution_count": null,
   "metadata": {},
   "outputs": [],
   "source": []
  }
 ],
 "metadata": {
  "kernelspec": {
   "display_name": "Python 3",
   "language": "python",
   "name": "python3"
  },
  "language_info": {
   "codemirror_mode": {
    "name": "ipython",
    "version": 3
   },
   "file_extension": ".py",
   "mimetype": "text/x-python",
   "name": "python",
   "nbconvert_exporter": "python",
   "pygments_lexer": "ipython3",
   "version": "3.6.7"
  }
 },
 "nbformat": 4,
 "nbformat_minor": 2
}
