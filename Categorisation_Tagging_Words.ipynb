{
 "cells": [
  {
   "cell_type": "markdown",
   "metadata": {},
   "source": [
    "# <font color = 'red'>Categorisation_Tagging_Words</font>\n",
    "\n",
    "In text mining the most important thing is to able to categorise the sentence into different pats of speech. In python, with the help of NLTK package, such thing is possible. It has different word list for each parts of speech with which it compares the given text and tag it accordingly.\n",
    "\n",
    "* CC: Conjuction\n",
    "* NN: Noun\n",
    "* RB: Adverb\n",
    "* JJ: Adjective\n",
    "* IN: Preposition\n",
    "* VB: Verb\n",
    "* PRP: Personal Pronoun\n",
    "\n",
    " \n",
    " NLTK package provides the documentation on each POS_TAG. The below command provides the details on POS_TAG,\n",
    "\n",
    "\n"
   ]
  },
  {
   "cell_type": "code",
   "execution_count": 11,
   "metadata": {},
   "outputs": [
    {
     "name": "stdout",
     "output_type": "stream",
     "text": [
      "CC: conjunction, coordinating\n",
      "    & 'n and both but either et for less minus neither nor or plus so\n",
      "    therefore times v. versus vs. whether yet\n",
      "NN: noun, common, singular or mass\n",
      "    common-carrier cabbage knuckle-duster Casino afghan shed thermostat\n",
      "    investment slide humour falloff slick wind hyena override subhumanity\n",
      "    machinist ...\n",
      "RB: adverb\n",
      "    occasionally unabatingly maddeningly adventurously professedly\n",
      "    stirringly prominently technologically magisterially predominately\n",
      "    swiftly fiscally pitilessly ...\n",
      "JJ: adjective or numeral, ordinal\n",
      "    third ill-mannered pre-war regrettable oiled calamitous first separable\n",
      "    ectoplasmic battery-powered participatory fourth still-to-be-named\n",
      "    multilingual multi-disciplinary ...\n",
      "IN: preposition or conjunction, subordinating\n",
      "    astride among uppon whether out inside pro despite on by throughout\n",
      "    below within for towards near behind atop around if like until below\n",
      "    next into if beside ...\n",
      "VB: verb, base form\n",
      "    ask assemble assess assign assume atone attention avoid bake balkanize\n",
      "    bank begin behold believe bend benefit bevel beware bless boil bomb\n",
      "    boost brace break bring broil brush build ...\n",
      "PRP: pronoun, personal\n",
      "    hers herself him himself hisself it itself me myself one oneself ours\n",
      "    ourselves ownself self she thee theirs them themselves they thou thy us\n",
      "DT: determiner\n",
      "    all an another any both del each either every half la many much nary\n",
      "    neither no some such that the them these this those\n",
      "TO: \"to\" as preposition or infinitive marker\n",
      "    to\n"
     ]
    }
   ],
   "source": [
    "import nltk\n",
    "POS_List = [\"CC\",\"NN\",\"RB\",\"JJ\",\"IN\",\"VB\",\"PRP\",\"DT\",\"TO\"]\n",
    "for i in range(len(POS_List)):\n",
    "    nltk.help.upenn_tagset(POS_List[i])"
   ]
  },
  {
   "cell_type": "code",
   "execution_count": 10,
   "metadata": {},
   "outputs": [
    {
     "name": "stdout",
     "output_type": "stream",
     "text": [
      "[('They', 'PRP'), ('refuse', 'VBP'), ('to', 'TO'), ('permit', 'VB'), ('us', 'PRP'), ('to', 'TO'), ('obtain', 'VB'), ('the', 'DT'), ('refuse', 'NN'), ('permit', 'NN')]\n"
     ]
    }
   ],
   "source": [
    "import nltk\n",
    "\n",
    "sentence = \"They refuse to permit us to obtain the refuse permit\"\n",
    "words = sentence.split()\n",
    "print(nltk.pos_tag(words))\n"
   ]
  },
  {
   "cell_type": "markdown",
   "metadata": {},
   "source": [
    "## <font color='red'>Tagged Corpora</font>\n",
    "\n",
    "Tagged corpora in any format, whether it is on POS_TAG or in some other user defined tags can be untagged and separate out from the tagging.\n",
    "The below command can help in the acheiving the same,"
   ]
  },
  {
   "cell_type": "code",
   "execution_count": 36,
   "metadata": {},
   "outputs": [
    {
     "name": "stdout",
     "output_type": "stream",
     "text": [
      "commented\n",
      "The grand jury commented on a number of other topics , AMONG them the Atlanta and Fulton County purchasing departments which it said `` ARE well operated and follow generally accepted practices which inure to the best interest of both governments '' . \n"
     ]
    }
   ],
   "source": [
    "import nltk\n",
    "Sent = '''\n",
    "The/AT grand/JJ jury/NN commented/VBD on/IN a/AT number/NN of/IN\n",
    "other/AP topics/NNS ,/, AMONG/IN them/PPO the/AT Atlanta/NP and/CC\n",
    "Fulton/NP-tl County/NN-tl purchasing/VBG departments/NNS which/WDT it/PPS\n",
    "said/VBD ``/`` ARE/BER well/QL operated/VBN and/CC follow/VB generally/RB\n",
    "accepted/VBN practices/NNS which/WDT inure/VB to/IN the/AT best/JJT\n",
    "interest/NN of/IN both/ABX governments/NNS ''/'' .'''\n",
    "\n",
    "untag = [nltk.tag.str2tuple(t) for t in Sent.split()]\n",
    "\n",
    "untag_sent = [untag[i][0] for i in range(len(untag))]\n",
    "\n",
    "print(untag_sent[3])\n",
    "\n",
    "raw_sentence = ''\n",
    "for i in range(len(untag_sent)):\n",
    "    raw_sentence += untag_sent[i] + str(' ')\n",
    "print(raw_sentence)"
   ]
  },
  {
   "cell_type": "code",
   "execution_count": null,
   "metadata": {},
   "outputs": [],
   "source": []
  },
  {
   "cell_type": "code",
   "execution_count": null,
   "metadata": {},
   "outputs": [],
   "source": []
  }
 ],
 "metadata": {
  "kernelspec": {
   "display_name": "Python 3",
   "language": "python",
   "name": "python3"
  },
  "language_info": {
   "codemirror_mode": {
    "name": "ipython",
    "version": 3
   },
   "file_extension": ".py",
   "mimetype": "text/x-python",
   "name": "python",
   "nbconvert_exporter": "python",
   "pygments_lexer": "ipython3",
   "version": "3.6.7"
  }
 },
 "nbformat": 4,
 "nbformat_minor": 2
}
